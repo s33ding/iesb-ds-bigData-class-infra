{
 "cells": [
  {
   "cell_type": "markdown",
   "metadata": {},
   "source": [
    "# PostgreSQL to S3 Export using Glue/Spark"
   ]
  },
  {
   "cell_type": "code",
   "execution_count": null,
   "metadata": {},
   "outputs": [],
   "source": [
    "import sys\n",
    "import boto3\n",
    "import json\n",
    "from awsglue.transforms import *\n",
    "from awsglue.utils import getResolvedOptions\n",
    "from pyspark.context import SparkContext\n",
    "from awsglue.context import GlueContext\n",
    "from awsglue.job import Job"
   ]
  },
  {
   "cell_type": "code",
   "execution_count": null,
   "metadata": {},
   "outputs": [],
   "source": [
    "# Initialize Glue context\n",
    "sc = SparkContext()\n",
    "glueContext = GlueContext(sc)\n",
    "spark = glueContext.spark_session"
   ]
  },
  {
   "cell_type": "code",
   "execution_count": null,
   "metadata": {},
   "outputs": [],
   "source": [
    "# Get credentials from Secrets Manager\n",
    "secrets_client = boto3.client('secretsmanager')\n",
    "secret = secrets_client.get_secret_value(SecretId='rds-read-only')\n",
    "credentials = json.loads(secret['SecretString'])"
   ]
  },
  {
   "cell_type": "code",
   "execution_count": null,
   "metadata": {},
   "outputs": [],
   "source": [
    "# Table list\n",
    "tables = [\n",
    "    \"municipio\", \"unidade_federacao\", \"regiao\", \"ed_enem_2024_resultados\",\n",
    "    \"ed_enem_2024_participantes\", \"educacao_basica\", \"censo_escolar_2024\",\n",
    "    \"pib_municipios\", \"sus_aih\", \"sus_procedimento_ambulatorial\",\n",
    "    \"ed_superior_cursos\", \"ed_superior_ies\", \"agregados_setores_censitarios\",\n",
    "    \"Censo_20222_Populacao_Idade_Sexo\", \"municipio_ride_brasilia\",\n",
    "    \"ocorrencia\", \"ed_enem_2024_resultados_amos_per\"\n",
    "]"
   ]
  },
  {
   "cell_type": "code",
   "execution_count": null,
   "metadata": {},
   "outputs": [],
   "source": [
    "# JDBC connection properties using Secrets Manager\n",
    "jdbc_url = f\"jdbc:postgresql://{credentials['host']}:{credentials['port']}/{credentials['dbname']}\"\n",
    "connection_properties = {\n",
    "    \"user\": credentials['username'],\n",
    "    \"password\": credentials['password'],\n",
    "    \"driver\": \"org.postgresql.Driver\"\n",
    "}"
   ]
  },
  {
   "cell_type": "code",
   "execution_count": null,
   "metadata": {},
   "outputs": [],
   "source": [
    "# Export tables to S3\n",
    "for table_name in tables:\n",
    "    # Read from PostgreSQL using Spark JDBC\n",
    "    df = spark.read.jdbc(\n",
    "        url=jdbc_url,\n",
    "        table=table_name,\n",
    "        properties=connection_properties\n",
    "    )\n",
    "    \n",
    "    # Write to S3 as Parquet\n",
    "    df.write.mode(\"overwrite\").parquet(f\"s3://iesb-bigdata-dya39x2g/postgres/{table_name}/\")\n",
    "    \n",
    "    print(f\"Table {table_name} exported to S3!\")"
   ]
  }
 ],
 "metadata": {
  "kernelspec": {
   "display_name": "Python 3",
   "language": "python",
   "name": "python3"
  },
  "language_info": {
   "codemirror_mode": {
    "name": "ipython",
    "version": 3
   },
   "file_extension": ".py",
   "mimetype": "text/x-python",
   "name": "python",
   "nbconvert_exporter": "python",
   "pygments_lexer": "ipython3",
   "version": "3.8.5"
  }
 },
 "nbformat": 4,
 "nbformat_minor": 4
}
